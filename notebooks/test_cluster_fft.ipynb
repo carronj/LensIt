{
 "cells": [
  {
   "cell_type": "markdown",
   "metadata": {},
   "source": [
    "# Estimate the kappa FFT for a cluster"
   ]
  },
  {
   "cell_type": "code",
   "execution_count": 1,
   "metadata": {},
   "outputs": [
    {
     "name": "stdout",
     "output_type": "stream",
     "text": [
      "***could not import bicubic fortran module\n",
      "***I wont be able to lens maps or invert a deflection field\n"
     ]
    }
   ],
   "source": [
    "%load_ext autoreload\n",
    "%autoreload 2\n",
    "\n",
    "import numpy as np \n",
    "import camb \n",
    "\n",
    "import lensit as li\n",
    "from lensit.clusterlens import lensingmap \n",
    "from lensit.ffs_covs import ffs_cov, ell_mat\n",
    "\n",
    "import os\n",
    "import os.path as op\n",
    "import matplotlib as mpl\n",
    "from matplotlib import pyplot as plt\n",
    "\n",
    "from scipy.interpolate import UnivariateSpline as spline\n",
    "\n"
   ]
  },
  {
   "cell_type": "code",
   "execution_count": 17,
   "metadata": {},
   "outputs": [],
   "source": [
    "mpl.rcParams['axes.labelsize'] = 20\n",
    "mpl.rcParams['font.size'] = 20\n",
    "mpl.rcParams['figure.figsize'] = 8.5, 5.5\n",
    "\n",
    "mpl.rcParams['mathtext.fontset'] = 'cm'\n",
    "mpl.rcParams['mathtext.rm'] = 'serif'\n",
    "mpl.rc('text', usetex=True)\n",
    "mpl.rcParams['errorbar.capsize'] = 4\n",
    "mpl.rc('legend', fontsize=15)"
   ]
  },
  {
   "cell_type": "code",
   "execution_count": 18,
   "metadata": {},
   "outputs": [],
   "source": [
    "# We start by intiating CAMB which will give us the relevant cosmology \n",
    "cambinifile = 'planck_2018_acc'\n",
    "\n",
    "pars = camb.read_ini(op.join(op.dirname(camb.__path__[0]),  'inifiles', cambinifile + '.ini'))\n",
    "# pars.set_for_lmax(20000)\n",
    "# pars.set_accuracy(2)\n",
    "results = camb.get_results(pars)\n"
   ]
  },
  {
   "cell_type": "code",
   "execution_count": 24,
   "metadata": {},
   "outputs": [
    {
     "name": "stdout",
     "output_type": "stream",
     "text": [
      "/Users/louis/Code/LensIt/lensit_write/temp/clustermaps/camb_planck_2018_acc/cmbexp_S4_opti/nfw_profile/npix1024_lpix_0.3amin_lmaxsky70000/M200_1.000000E+15_z1/100_sims\n"
     ]
    }
   ],
   "source": [
    "# We define here the parameters for the profile of the cluster\n",
    "M200 = 1e15\n",
    "z = 1\n",
    "profname = 'nfw'\n",
    "profparams={'M200c':M200, 'z':z}\n",
    "\n",
    "# Define here the map square patches\n",
    "npix = 1024  # Number of pixels\n",
    "lpix_amin = 0.3 # Physical size of a pixel in arcmin (There is bug when <0.2 amin, due to low precision in Cl_TE at )\n",
    "\n",
    "# Maximum multipole used to generate the CMB maps from the CMB power spectra\n",
    "# ellmaxsky = 6000 # (bug when ellmax>6300 because of low precision in Cl_TE of CAMB )\n",
    "ellmaxsky = 70000 \n",
    "\n",
    "# Set the maximum ell observed in the CMB data maps\n",
    "ellmaxdat = 3000\n",
    "\n",
    "\n",
    "# Number of simulated maps \n",
    "nsims = 100\n",
    "\n",
    "# Set CMB experiment for noise level and beam\n",
    "cmb_exp='S4_opti'\n",
    "\n",
    "# We will cache things in this directory \n",
    "libdir = lensingmap.get_cluster_libdir(cambinifile, profname, npix, lpix_amin, ellmaxsky, M200, z, nsims, cmb_exp)\n",
    "print(libdir)"
   ]
  },
  {
   "cell_type": "code",
   "execution_count": 25,
   "metadata": {},
   "outputs": [
    {
     "name": "stderr",
     "output_type": "stream",
     "text": [
      "WARNING:root:getting CMB power spectra to higher L than calculated, may be innacurate/zeroed.\n"
     ]
    }
   ],
   "source": [
    "camb_cls_len = results.get_lensed_scalar_cls(CMB_unit='muK', raw_cl=True, lmax=ellmaxsky).T\n",
    "cls_len = {'tt':camb_cls_len[0], 'ee':camb_cls_len[1], 'bb':camb_cls_len[2], 'te':camb_cls_len[3]}\n",
    "# cpp_true = results.get_lens_potential_cls(CMB_unit='muK', raw_cl=True, lmax=ellmaxsky).T[0]"
   ]
  },
  {
   "cell_type": "code",
   "execution_count": 26,
   "metadata": {},
   "outputs": [
    {
     "name": "stderr",
     "output_type": "stream",
     "text": [
      "WARNING:root:getting CMB power spectra to higher L than calculated, may be innacurate/zeroed.\n"
     ]
    }
   ],
   "source": [
    "# Instantiate the class containing the simulated maps \n",
    "\n",
    "clustermaps = lensingmap.cluster_maps(libdir, npix, lpix_amin, nsims, results, profparams, profilename=profname,  ellmax_sky = ellmaxsky, ellmax_data=ellmaxdat, cmb_exp=cmb_exp)\n"
   ]
  },
  {
   "cell_type": "code",
   "execution_count": 27,
   "metadata": {},
   "outputs": [],
   "source": [
    "def cli(cl):\n",
    "    ret = np.zeros_like(cl)\n",
    "    ret[np.where(cl > 0)] = 1. / cl[np.where(cl > 0)]\n",
    "    return ret\n",
    "\n",
    "def pp_to_kk(ls):\n",
    "    return ls ** 2 * (ls+1) ** 2 * 0.25 \n",
    "\n",
    "def kk_to_pp(ls):\n",
    "    return cli(pp_to_kk(ls))"
   ]
  },
  {
   "cell_type": "code",
   "execution_count": 28,
   "metadata": {},
   "outputs": [],
   "source": [
    "ellmax_sky = clustermaps.ellmax_sky\n",
    "\n",
    "lib_skyalm = clustermaps.lib_skyalm\n"
   ]
  },
  {
   "cell_type": "code",
   "execution_count": 38,
   "metadata": {},
   "outputs": [
    {
     "name": "stderr",
     "output_type": "stream",
     "text": [
      "/Users/louis/Code/LensIt/lensit/clusterlens/profile.py:151: RuntimeWarning: invalid value encountered in subtract\n",
      "  Cidiff = Cixpc - Cix\n",
      "/Users/louis/Code/LensIt/lensit/clusterlens/profile.py:152: RuntimeWarning: invalid value encountered in true_divide\n",
      "  u0 = np.sin(x) * Sidiff + np.cos(x) * Cidiff - np.sin(x * c) / (x * (1. + c))\n"
     ]
    }
   ],
   "source": [
    "ell, = np.where(lib_skyalm.get_Nell()[:ellmaxsky+1])\n",
    "\n",
    "kappa_map = clustermaps.get_kappa_map(clustermaps.M200, clustermaps.z)\n",
    "\n",
    "ckk_map = lib_skyalm.map2cl(kappa_map)\n",
    "cpp_map_interp = 10**spline(ell, np.log10(ckk_map[ell]))(np.arange(ellmaxsky+1)) * kk_to_pp(np.arange(ellmaxsky+1))\n",
    "\n",
    "\n",
    "kappa_ell = clustermaps.haloprofile.analitic_kappa_ft(clustermaps.M200, clustermaps.z, np.arange(ellmax_sky+1))\n",
    "ckk_fid = kappa_ell **2 \n",
    "cpp_fid = kk_to_pp(np.arange(ellmax_sky+1))*ckk_fid\n",
    "\n",
    "\n",
    "ckk_alm = lib_skyalm.map2alm(kappa_map)\n",
    "\n",
    "ckk_bin = lib_skyalm.bin_realpart_inell(ckk_alm)\n",
    "\n",
    "# cpp_prior = cpp_prior * kk_to_pp(np.arange(isocov.lib_skyalm.ellmax +1))"
   ]
  },
  {
   "cell_type": "code",
   "execution_count": 39,
   "metadata": {},
   "outputs": [
    {
     "data": {
      "text/plain": [
       "<matplotlib.image.AxesImage at 0x125865fd0>"
      ]
     },
     "execution_count": 39,
     "metadata": {},
     "output_type": "execute_result"
    },
    {
     "data": {
      "image/png": "[encoded data removed]",
      "text/plain": [
       "<Figure size 612x396 with 1 Axes>"
      ]
     },
     "metadata": {
      "needs_background": "light"
     },
     "output_type": "display_data"
    }
   ],
   "source": [
    "plt.imshow(kappa_map)"
   ]
  },
  {
   "cell_type": "code",
   "execution_count": 43,
   "metadata": {},
   "outputs": [
    {
     "data": {
      "text/plain": [
       "[]"
      ]
     },
     "execution_count": 43,
     "metadata": {},
     "output_type": "execute_result"
    },
    {
     "data": {
      "image/png": "[encoded data removed]",
      "text/plain": [
       "<Figure size 612x396 with 1 Axes>"
      ]
     },
     "metadata": {
      "needs_background": "light"
     },
     "output_type": "display_data"
    }
   ],
   "source": [
    "# plt.plot(cpp_map_interp[:lib_skyalm.ellmax +1]*pp_to_kk(np.arange(lib_skyalm.ellmax +1)))\n",
    "\n",
    "\n",
    "plt.plot(ell, ckk_map[ell])\n",
    "# plt.plot(ell, ckk_bin[ell])\n",
    "plt.plot(ckk_fid, label='Th. Cl kappa')\n",
    "\n",
    "plt.loglog()"
   ]
  },
  {
   "cell_type": "code",
   "execution_count": 32,
   "metadata": {},
   "outputs": [
    {
     "data": {
      "text/plain": [
       "<matplotlib.legend.Legend at 0x125475490>"
      ]
     },
     "execution_count": 32,
     "metadata": {},
     "output_type": "execute_result"
    },
    {
     "data": {
      "image/png": "[encoded data removed]",
      "text/plain": [
       "<Figure size 612x396 with 1 Axes>"
      ]
     },
     "metadata": {
      "needs_background": "light"
     },
     "output_type": "display_data"
    }
   ],
   "source": [
    "\n",
    "ell, = np.where(lib_skyalm.get_Nell()[:ellmaxdat+1])\n",
    "\n",
    "\n",
    "plt.plot(ell, ckk_map[ell], label='Kappa MAP FT')\n",
    "plt.plot(ell, ckk_fid[ell], label='Analytic Kappa FT')\n",
    "\n",
    "plt.semilogy()\n",
    "\n",
    "plt.xlabel(r'$L$')\n",
    "plt.ylabel(r'$C_L$')\n",
    "\n",
    "plt.legend()"
   ]
  },
  {
   "cell_type": "code",
   "execution_count": null,
   "metadata": {},
   "outputs": [],
   "source": []
  }
 ],
 "metadata": {
  "interpreter": {
   "hash": "b2bbaa2dc63bc73325281a509462b324c52e8dd49934581d9616a505100ad91b"
  },
  "kernelspec": {
   "display_name": "lens",
   "language": "python",
   "name": "lens"
  },
  "language_info": {
   "codemirror_mode": {
    "name": "ipython",
    "version": 3
   },
   "file_extension": ".py",
   "mimetype": "text/x-python",
   "name": "python",
   "nbconvert_exporter": "python",
   "pygments_lexer": "ipython3",
   "version": "3.9.2"
  },
  "orig_nbformat": 4
 },
 "nbformat": 4,
 "nbformat_minor": 2
}
